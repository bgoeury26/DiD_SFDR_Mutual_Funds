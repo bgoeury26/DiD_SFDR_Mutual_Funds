{
 "cells": [
  {
   "cell_type": "code",
   "execution_count": 9,
   "id": "fe88644f-457b-45b8-bfd2-cef0a43a504c",
   "metadata": {
    "tags": []
   },
   "outputs": [
    {
     "name": "stdout",
     "output_type": "stream",
     "text": [
      "Regression results saved as 'Beta_1_Results_2018_2021.xlsx' and 'Beta_1_Results_2021_2024.xlsx'.\n"
     ]
    }
   ],
   "source": [
    "import pandas as pd\n",
    "import statsmodels.api as sm\n",
    "\n",
    "# Load the merged dataset\n",
    "merged_data = pd.read_excel('Merged_Funds_Factors_Data.xlsx')\n",
    "\n",
    "# Define the periods\n",
    "period_1_start = '2018-03-31'\n",
    "period_1_end = '2021-03-31'\n",
    "period_2_start = '2021-03-31'\n",
    "period_2_end = '2024-03-31'\n",
    "\n",
    "# Filter the data for each period\n",
    "period_1_data = merged_data[(merged_data['Date'] >= period_1_start) & (merged_data['Date'] <= period_1_end)]\n",
    "period_2_data = merged_data[(merged_data['Date'] >= period_2_start) & (merged_data['Date'] <= period_2_end)]\n",
    "\n",
    "# Function to run regression for each fund and period\n",
    "def run_regression(data, period_name):\n",
    "    results = []\n",
    "    funds = data['ISIN'].unique()\n",
    "    for fund in funds:\n",
    "        fund_data = data[data['ISIN'] == fund]\n",
    "        X = fund_data[['Mkt-RF', 'SMB', 'HML', 'MOM', 'RMW', 'CMA']]\n",
    "        y = fund_data['Return'] - fund_data['RF']\n",
    "        X = sm.add_constant(X)\n",
    "        model = sm.OLS(y, X).fit()\n",
    "        beta_1 = model.params['Mkt-RF']\n",
    "        results.append({'ISIN': fund, 'Period': period_name, 'Beta_1': beta_1, 'Model Summary': model.summary()})\n",
    "    return results\n",
    "\n",
    "# Run regression for each period\n",
    "results_period_1 = run_regression(period_1_data, '2018-2021')\n",
    "results_period_2 = run_regression(period_2_data, '2021-2024')\n",
    "\n",
    "# Convert results to DataFrame\n",
    "results_df_1 = pd.DataFrame(results_period_1)\n",
    "results_df_2 = pd.DataFrame(results_period_2)\n",
    "\n",
    "# Save the results\n",
    "results_df_1.to_excel('Beta_1_Results_2018_2021.xlsx', index=False)\n",
    "results_df_2.to_excel('Beta_1_Results_2021_2024.xlsx', index=False)\n",
    "\n",
    "print(\"Regression results saved as 'Beta_1_Results_2018_2021.xlsx' and 'Beta_1_Results_2021_2024.xlsx'.\")\n"
   ]
  },
  {
   "cell_type": "code",
   "execution_count": null,
   "id": "ccd286b8-a141-45b1-abd6-408a2b13fd65",
   "metadata": {},
   "outputs": [],
   "source": []
  }
 ],
 "metadata": {
  "kernelspec": {
   "display_name": "Python 3 (ipykernel)",
   "language": "python",
   "name": "python3"
  },
  "language_info": {
   "codemirror_mode": {
    "name": "ipython",
    "version": 3
   },
   "file_extension": ".py",
   "mimetype": "text/x-python",
   "name": "python",
   "nbconvert_exporter": "python",
   "pygments_lexer": "ipython3",
   "version": "3.11.7"
  }
 },
 "nbformat": 4,
 "nbformat_minor": 5
}
