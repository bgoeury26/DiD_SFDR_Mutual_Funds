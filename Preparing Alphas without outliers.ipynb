{
 "cells": [
  {
   "cell_type": "code",
   "execution_count": 1,
   "id": "14a68203-4f9f-4aa3-8358-5e52d4cc3706",
   "metadata": {
    "tags": []
   },
   "outputs": [
    {
     "name": "stdout",
     "output_type": "stream",
     "text": [
      "Descriptive Statistics for Alpha Values:\n",
      "count    21078.000000\n",
      "mean        -0.143248\n",
      "std          0.961219\n",
      "min         -4.546442\n",
      "25%         -0.721402\n",
      "50%         -0.176779\n",
      "75%          0.360570\n",
      "max          5.864655\n",
      "Name: Alpha, dtype: float64\n",
      "\n",
      "Number of non-outliers: 20403\n",
      "\n",
      "Saved non-outliers data to 'Alpha_Results_No_Outliers.xlsx'.\n"
     ]
    }
   ],
   "source": [
    "import pandas as pd\n",
    "import statsmodels.api as sm\n",
    "from tqdm import tqdm\n",
    "import warnings\n",
    "\n",
    "# Suppress specific warnings\n",
    "warnings.filterwarnings(\"ignore\", message=\"kurtosistest only valid for n>=20\")\n",
    "\n",
    "# Load the datasets\n",
    "alpha_results_2018_2021 = pd.read_excel('Alpha_Results_2018_2021.xlsx')\n",
    "alpha_results_2021_2024 = pd.read_excel('Alpha_Results_2021_2024.xlsx')\n",
    "\n",
    "# Combine both results for a comprehensive analysis\n",
    "alpha_results = pd.concat([alpha_results_2018_2021, alpha_results_2021_2024], ignore_index=True)\n",
    "\n",
    "# Descriptive statistics for alpha values\n",
    "descriptive_stats = alpha_results['Alpha'].describe()\n",
    "print(\"Descriptive Statistics for Alpha Values:\")\n",
    "print(descriptive_stats)\n",
    "\n",
    "# Detecting outliers using IQR method\n",
    "Q1 = alpha_results['Alpha'].quantile(0.25)\n",
    "Q3 = alpha_results['Alpha'].quantile(0.75)\n",
    "IQR = Q3 - Q1\n",
    "\n",
    "# Define outlier thresholds\n",
    "lower_bound = Q1 - 1.5 * IQR\n",
    "upper_bound = Q3 + 1.5 * IQR\n",
    "\n",
    "# Identify non-outliers with progress bar\n",
    "non_outliers = alpha_results[(alpha_results['Alpha'] >= lower_bound) & (alpha_results['Alpha'] <= upper_bound)]\n",
    "print(f\"\\nNumber of non-outliers: {non_outliers.shape[0]}\")\n",
    "\n",
    "# Save the non-outliers data for DID analysis\n",
    "non_outliers.to_excel('Alpha_Results_No_Outliers.xlsx', index=False)\n",
    "print(\"\\nSaved non-outliers data to 'Alpha_Results_No_Outliers.xlsx'.\")\n"
   ]
  },
  {
   "cell_type": "code",
   "execution_count": 6,
   "id": "70cad066-a109-4e84-9944-0ddff56ab9e3",
   "metadata": {
    "tags": []
   },
   "outputs": [
    {
     "name": "stdout",
     "output_type": "stream",
     "text": [
      "           ISIN  Period     Alpha  R-Squared  \\\n",
      "0  LU0066794479    2018  0.123842   0.549134   \n",
      "1  LU0066794479    2019 -1.451790   0.335561   \n",
      "2  LU0066794479    2020 -1.058813   0.648356   \n",
      "3  AT0000653670    2018 -0.098746   0.517367   \n",
      "4  AT0000653670    2020 -0.569791   0.668382   \n",
      "\n",
      "                                       Model Summary Classification  \n",
      "0                              OLS Regression Res...      Article 8  \n",
      "1                              OLS Regression Res...      Article 8  \n",
      "2                              OLS Regression Res...      Article 8  \n",
      "3                              OLS Regression Res...      Article 8  \n",
      "4                              OLS Regression Res...      Article 8  \n",
      "Updated alpha data with classification saved to 'Alpha_With_Classification.xlsx'.\n"
     ]
    }
   ],
   "source": [
    "import pandas as pd\n",
    "\n",
    "# Load the datasets\n",
    "alpha_data = pd.read_excel('Alpha_Results_No_Outliers.xlsx')\n",
    "merged_data = pd.read_excel('Merged_Funds_Factors_Data.xlsx')\n",
    "\n",
    "# Retrieve the Classification from merged_data based on ISIN\n",
    "classification_data = merged_data[['ISIN', 'Classification']].drop_duplicates()\n",
    "\n",
    "# Merge the classification data with the alpha data\n",
    "alpha_data = pd.merge(alpha_data, classification_data, on='ISIN', how='left')\n",
    "\n",
    "# Check if the merge was successful\n",
    "print(alpha_data.head())\n",
    "\n",
    "# Save the updated alpha data\n",
    "alpha_data.to_excel('Alpha_With_Classification.xlsx', index=False)\n",
    "\n",
    "print(\"Updated alpha data with classification saved to 'Alpha_With_Classification.xlsx'.\")\n"
   ]
  },
  {
   "cell_type": "code",
   "execution_count": 8,
   "id": "ddc4a93e-9cf3-42af-a100-f3c75e49e217",
   "metadata": {
    "tags": []
   },
   "outputs": [
    {
     "name": "stdout",
     "output_type": "stream",
     "text": [
      "Descriptive Statistics for Alpha Values by Classification:\n",
      "                  count      mean       std       min       25%       50%  \\\n",
      "Classification                                                              \n",
      "Article 6        5679.0 -0.102864  0.813633 -2.343606 -0.626885 -0.126531   \n",
      "Article 8       13040.0 -0.228368  0.800079 -2.343944 -0.767515 -0.224606   \n",
      "Article 9        1684.0 -0.172931  0.765521 -2.334077 -0.654991 -0.136344   \n",
      "\n",
      "                     75%       max  \n",
      "Classification                      \n",
      "Article 6       0.403627  1.976026  \n",
      "Article 8       0.291778  1.980821  \n",
      "Article 9       0.334045  1.980879  \n",
      "Descriptive statistics by classification saved to 'Descriptive_Stats_Alpha_By_Classification.xlsx'.\n"
     ]
    }
   ],
   "source": [
    "import pandas as pd\n",
    "\n",
    "# Load the updated alpha data with classification\n",
    "alpha_data = pd.read_excel('Alpha_With_Classification.xlsx')\n",
    "\n",
    "# Group by classification and calculate descriptive statistics for each article\n",
    "descriptive_stats_by_classification = alpha_data.groupby('Classification')['Alpha'].describe()\n",
    "\n",
    "# Display the descriptive statistics\n",
    "print(\"Descriptive Statistics for Alpha Values by Classification:\")\n",
    "print(descriptive_stats_by_classification)\n",
    "\n",
    "# Save the descriptive statistics to an Excel file\n",
    "descriptive_stats_by_classification.to_excel('Descriptive_Stats_Alpha_By_Classification.xlsx')\n",
    "\n",
    "print(\"Descriptive statistics by classification saved to 'Descriptive_Stats_Alpha_By_Classification.xlsx'.\")\n"
   ]
  },
  {
   "cell_type": "code",
   "execution_count": null,
   "id": "dfd23b18-d3ee-4171-b7f5-f0c2e909af68",
   "metadata": {},
   "outputs": [],
   "source": []
  }
 ],
 "metadata": {
  "kernelspec": {
   "display_name": "Python 3 (ipykernel)",
   "language": "python",
   "name": "python3"
  },
  "language_info": {
   "codemirror_mode": {
    "name": "ipython",
    "version": 3
   },
   "file_extension": ".py",
   "mimetype": "text/x-python",
   "name": "python",
   "nbconvert_exporter": "python",
   "pygments_lexer": "ipython3",
   "version": "3.11.7"
  }
 },
 "nbformat": 4,
 "nbformat_minor": 5
}
