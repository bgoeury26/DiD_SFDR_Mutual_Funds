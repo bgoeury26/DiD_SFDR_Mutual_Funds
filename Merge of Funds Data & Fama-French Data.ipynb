{
 "cells": [
  {
   "cell_type": "code",
   "execution_count": 21,
   "id": "5cdb244d-5993-4659-8bf0-1a53e120a098",
   "metadata": {
    "tags": []
   },
   "outputs": [
    {
     "name": "stdout",
     "output_type": "stream",
     "text": [
      "Merged dataset saved as 'Merged_Funds_Factors_Data.xlsx'.\n"
     ]
    }
   ],
   "source": [
    "import pandas as pd\n",
    "\n",
    "# Load the datasets\n",
    "cleaned_funds_data = pd.read_excel('Cleaned_Funds_Data.xlsx')\n",
    "developed_5_factors = pd.read_excel('Developed_5_Factors.xlsx')\n",
    "\n",
    "# Pivot the Developed_5_Factors dataset to have dates as rows\n",
    "developed_5_factors = developed_5_factors.set_index('Fama-French').T\n",
    "developed_5_factors.index.name = 'Date'\n",
    "developed_5_factors.reset_index(inplace=True)\n",
    "\n",
    "# Convert the 'Date' column in both datasets to datetime format\n",
    "developed_5_factors['Date'] = pd.to_datetime(developed_5_factors['Date'])\n",
    "cleaned_funds_data.columns = [col if col in ['ISIN', 'Classification'] else pd.to_datetime(col) for col in cleaned_funds_data.columns]\n",
    "\n",
    "# Melt the Cleaned_Funds_Data to have dates as rows\n",
    "cleaned_funds_data = cleaned_funds_data.melt(id_vars=['ISIN', 'Classification'], var_name='Date', value_name='Return')\n",
    "\n",
    "# Convert the 'Date' column in cleaned_funds_data to datetime format\n",
    "cleaned_funds_data['Date'] = pd.to_datetime(cleaned_funds_data['Date'])\n",
    "\n",
    "# Merge the datasets on the 'Date' column\n",
    "merged_data = pd.merge(cleaned_funds_data, developed_5_factors, on='Date')\n",
    "\n",
    "# Save the merged dataset\n",
    "merged_data.to_excel('Merged_Funds_Factors_Data.xlsx', index=False)\n",
    "\n",
    "print(\"Merged dataset saved as 'Merged_Funds_Factors_Data.xlsx'.\")\n"
   ]
  },
  {
   "cell_type": "code",
   "execution_count": null,
   "id": "9bb3b6cd-c660-4ce3-9390-06c62cb5bf03",
   "metadata": {},
   "outputs": [],
   "source": []
  }
 ],
 "metadata": {
  "kernelspec": {
   "display_name": "Python 3 (ipykernel)",
   "language": "python",
   "name": "python3"
  },
  "language_info": {
   "codemirror_mode": {
    "name": "ipython",
    "version": 3
   },
   "file_extension": ".py",
   "mimetype": "text/x-python",
   "name": "python",
   "nbconvert_exporter": "python",
   "pygments_lexer": "ipython3",
   "version": "3.11.7"
  }
 },
 "nbformat": 4,
 "nbformat_minor": 5
}
