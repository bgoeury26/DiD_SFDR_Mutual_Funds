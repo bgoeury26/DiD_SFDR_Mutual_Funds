{
 "cells": [
  {
   "cell_type": "code",
   "execution_count": 1,
   "id": "44508455-4998-480a-810d-b27ba761663f",
   "metadata": {
    "tags": []
   },
   "outputs": [],
   "source": [
    "import pandas as pd\n",
    "import statsmodels.api as sm\n",
    "from tqdm import tqdm\n",
    "\n",
    "# Load the datasets\n",
    "merged_data = pd.read_excel('Merged_Funds_Factors_Data.xlsx')\n",
    "beta_1_results_2018_2021 = pd.read_excel('Beta_1_Results_2018_2021.xlsx')\n",
    "beta_1_results_2021_2024 = pd.read_excel('Beta_1_Results_2021_2024.xlsx')\n",
    "\n",
    "# Define the periods\n",
    "period_1_start = '2018-03-31'\n",
    "period_1_end = '2021-03-31'\n",
    "period_2_start = '2021-03-31'\n",
    "period_2_end = '2024-03-31'\n",
    "\n",
    "# Filter the data for each period\n",
    "period_1_data = merged_data[(merged_data['Date'] >= period_1_start) & (merged_data['Date'] <= period_1_end)]\n",
    "period_2_data = merged_data[(merged_data['Date'] >= period_2_start) & (merged_data['Date'] <= period_2_end)]\n"
   ]
  },
  {
   "cell_type": "code",
   "execution_count": 3,
   "id": "5187ccaf-a0ff-49da-b58a-c813d699d391",
   "metadata": {
    "tags": []
   },
   "outputs": [],
   "source": [
    "def run_alpha_regression(data, beta_1_results, period_name, start_year, min_obs=6, min_r_squared=0.30):\n",
    "    results = []\n",
    "    funds = data['ISIN'].unique()\n",
    "    for fund in tqdm(funds, desc=f\"Processing {period_name}\"):\n",
    "        fund_data = data[data['ISIN'] == fund]\n",
    "        beta_1 = beta_1_results[beta_1_results['ISIN'] == fund]['Beta_1'].values\n",
    "        if fund_data.shape[0] >= min_obs and len(beta_1) > 0:\n",
    "            for year in range(1, 4):\n",
    "                annual_data = fund_data[(fund_data['Date'] >= f'{start_year + year - 1}-01-01') &\n",
    "                                        (fund_data['Date'] < f'{start_year + year}-01-01')]\n",
    "                if annual_data.shape[0] >= min_obs:\n",
    "                    X = annual_data[['SMB', 'HML', 'MOM', 'RMW', 'CMA']]\n",
    "                    y = annual_data['Return'] - annual_data['RF'] - beta_1[0] * annual_data['Mkt-RF']\n",
    "                    X = sm.add_constant(X)\n",
    "                    model = sm.OLS(y, X).fit()\n",
    "                    if model.rsquared >= min_r_squared:\n",
    "                        alpha = model.params['const']\n",
    "                        results.append({'ISIN': fund, 'Period': f'{start_year + year - 1}', 'Alpha': alpha, 'R-Squared': model.rsquared, 'Model Summary': model.summary()})\n",
    "    return results\n"
   ]
  },
  {
   "cell_type": "code",
   "execution_count": 6,
   "id": "c862e30c-c615-4e8e-aae8-43254a6ad3f4",
   "metadata": {
    "tags": []
   },
   "outputs": [
    {
     "name": "stderr",
     "output_type": "stream",
     "text": [
      "Processing 2018-2021: 100%|██████████| 8199/8199 [09:05<00:00, 15.03it/s]  \n",
      "Processing 2021-2024: 100%|██████████| 8199/8199 [08:44<00:00, 15.64it/s]  \n"
     ]
    },
    {
     "name": "stdout",
     "output_type": "stream",
     "text": [
      "Alpha regression results saved as 'Alpha_Results_2018_2021.xlsx' and 'Alpha_Results_2021_2024.xlsx'.\n"
     ]
    }
   ],
   "source": [
    "import warnings\n",
    "\n",
    "# Suppress specific warnings\n",
    "warnings.filterwarnings(\"ignore\", message=\"kurtosistest only valid for n>=20\")\n",
    "\n",
    "# Run alpha regression for each period\n",
    "results_alpha_1 = run_alpha_regression(period_1_data, beta_1_results_2018_2021, '2018-2021', 2018)\n",
    "results_alpha_2 = run_alpha_regression(period_2_data, beta_1_results_2021_2024, '2021-2024', 2021)\n",
    "\n",
    "# Convert results to DataFrame\n",
    "results_alpha_df_1 = pd.DataFrame(results_alpha_1)\n",
    "results_alpha_df_2 = pd.DataFrame(results_alpha_2)\n",
    "\n",
    "# Save the results\n",
    "results_alpha_df_1.to_excel('Alpha_Results_2018_2021.xlsx', index=False)\n",
    "results_alpha_df_2.to_excel('Alpha_Results_2021_2024.xlsx', index=False)\n",
    "\n",
    "print(\"Alpha regression results saved as 'Alpha_Results_2018_2021.xlsx' and 'Alpha_Results_2021_2024.xlsx'.\")\n"
   ]
  },
  {
   "cell_type": "code",
   "execution_count": 1,
   "id": "b5809982-acc1-4b3c-ac24-45a3a2325fb2",
   "metadata": {
    "tags": []
   },
   "outputs": [
    {
     "name": "stdout",
     "output_type": "stream",
     "text": [
      "Descriptive Statistics for Alpha Values:\n",
      "count    21078.000000\n",
      "mean        -0.143248\n",
      "std          0.961219\n",
      "min         -4.546442\n",
      "25%         -0.721402\n",
      "50%         -0.176779\n",
      "75%          0.360570\n",
      "max          5.864655\n",
      "Name: Alpha, dtype: float64\n",
      "\n",
      "Number of Outliers in Alpha Values: 675\n",
      "\n",
      "Outliers in Alpha Values:\n",
      "               ISIN  Period     Alpha  R-Squared  \\\n",
      "283    CH0037975858    2019  2.072281   0.474130   \n",
      "342    CH0192250600    2020  3.390263   0.900083   \n",
      "421    CH0315621927    2020  2.778909   0.640801   \n",
      "664    FR0000281966    2018  2.002361   0.760258   \n",
      "742    FR0007005624    2020 -2.593736   0.403704   \n",
      "...             ...     ...       ...        ...   \n",
      "21047  SE0010920470    2023  2.896545   0.651662   \n",
      "21050  SE0010920488    2023  2.972136   0.609847   \n",
      "21068  SE0012039519    2023  2.530895   0.574710   \n",
      "21071  SE0012039527    2023  2.513230   0.615832   \n",
      "21077  SE0014401303    2023  2.469538   0.574899   \n",
      "\n",
      "                                           Model Summary  \n",
      "283                                OLS Regression Res...  \n",
      "342                                OLS Regression Res...  \n",
      "421                                OLS Regression Res...  \n",
      "664                                OLS Regression Res...  \n",
      "742                                OLS Regression Res...  \n",
      "...                                                  ...  \n",
      "21047                              OLS Regression Res...  \n",
      "21050                              OLS Regression Res...  \n",
      "21068                              OLS Regression Res...  \n",
      "21071                              OLS Regression Res...  \n",
      "21077                              OLS Regression Res...  \n",
      "\n",
      "[675 rows x 5 columns]\n"
     ]
    },
    {
     "data": {
      "image/png": "[encoded data removed]",
      "text/plain": [
       "<Figure size 1000x600 with 1 Axes>"
      ]
     },
     "metadata": {},
     "output_type": "display_data"
    }
   ],
   "source": [
    "import pandas as pd\n",
    "import matplotlib.pyplot as plt\n",
    "import seaborn as sns\n",
    "\n",
    "# Load the alpha results\n",
    "alpha_results_2018_2021 = pd.read_excel('Alpha_Results_2018_2021.xlsx')\n",
    "alpha_results_2021_2024 = pd.read_excel('Alpha_Results_2021_2024.xlsx')\n",
    "\n",
    "# Combine both results for a comprehensive analysis\n",
    "alpha_results = pd.concat([alpha_results_2018_2021, alpha_results_2021_2024], ignore_index=True)\n",
    "\n",
    "# Descriptive statistics for alpha values\n",
    "descriptive_stats = alpha_results['Alpha'].describe()\n",
    "print(\"Descriptive Statistics for Alpha Values:\")\n",
    "print(descriptive_stats)\n",
    "\n",
    "# Detecting outliers using IQR method\n",
    "Q1 = alpha_results['Alpha'].quantile(0.25)\n",
    "Q3 = alpha_results['Alpha'].quantile(0.75)\n",
    "IQR = Q3 - Q1\n",
    "\n",
    "# Define outlier thresholds\n",
    "lower_bound = Q1 - 1.5 * IQR\n",
    "upper_bound = Q3 + 1.5 * IQR\n",
    "\n",
    "# Identify outliers\n",
    "outliers = alpha_results[(alpha_results['Alpha'] < lower_bound) | (alpha_results['Alpha'] > upper_bound)]\n",
    "num_outliers = outliers.shape[0]\n",
    "\n",
    "print(\"\\nNumber of Outliers in Alpha Values:\", num_outliers)\n",
    "\n",
    "# Display the outliers\n",
    "print(\"\\nOutliers in Alpha Values:\")\n",
    "print(outliers)\n",
    "\n",
    "# Boxplot to visualize alpha values and outliers\n",
    "plt.figure(figsize=(10, 6))\n",
    "sns.boxplot(x=alpha_results['Alpha'])\n",
    "plt.title('Boxplot of Alpha Values')\n",
    "plt.show()\n"
   ]
  },
  {
   "cell_type": "code",
   "execution_count": null,
   "id": "477e21b2-c969-42ab-b47a-ec52efd917ed",
   "metadata": {},
   "outputs": [],
   "source": []
  }
 ],
 "metadata": {
  "kernelspec": {
   "display_name": "Python 3 (ipykernel)",
   "language": "python",
   "name": "python3"
  },
  "language_info": {
   "codemirror_mode": {
    "name": "ipython",
    "version": 3
   },
   "file_extension": ".py",
   "mimetype": "text/x-python",
   "name": "python",
   "nbconvert_exporter": "python",
   "pygments_lexer": "ipython3",
   "version": "3.11.7"
  }
 },
 "nbformat": 4,
 "nbformat_minor": 5
}
